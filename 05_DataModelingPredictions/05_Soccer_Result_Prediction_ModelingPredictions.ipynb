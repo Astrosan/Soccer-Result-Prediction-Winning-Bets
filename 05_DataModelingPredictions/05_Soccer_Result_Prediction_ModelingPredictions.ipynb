{
 "cells": [
  {
   "cell_type": "markdown",
   "metadata": {},
   "source": [
    "# Soccer Analytics -  Predicting Soccer Match Results to Improve Chances of Winning Bets "
   ]
  },
  {
   "cell_type": "markdown",
   "metadata": {},
   "source": [
    "### The final part of our project is prediction of results. Here we are applying three models on the transformed dataset - Logistic Regression, SVC and Random Forest algorithm."
   ]
  },
  {
   "cell_type": "code",
   "execution_count": 1,
   "metadata": {},
   "outputs": [],
   "source": [
    "import numpy as np\n",
    "import pandas as pd\n",
    "import matplotlib.pyplot as plt\n",
    "import warnings\n",
    "warnings.filterwarnings('ignore')"
   ]
  },
  {
   "cell_type": "code",
   "execution_count": 2,
   "metadata": {},
   "outputs": [],
   "source": [
    "finaltrainingdf=pd.read_csv('Soccer_Training_Dataset.csv')\n",
    "finaltestdf=pd.read_csv('Soccer_Test_Dataset.csv')\n",
    "finaldf=pd.read_csv('trainingdatasetcomplete.csv')\n",
    "trainingdf = finaldf[(finaldf['season']==2016) | (finaldf['season']==2017)]\n",
    "testdf= finaldf[(finaldf['season']==2018)]"
   ]
  },
  {
   "cell_type": "code",
   "execution_count": 3,
   "metadata": {},
   "outputs": [],
   "source": [
    "finaltrainingdf=finaltrainingdf[['H76+_shotsA', 'HPY_finish_flag', 'HMissedShots_shotsA',\n",
    "       'HRight_PY_finish_flag', 'LY_Hdeep_y', 'LY_AxG_y', 'HOpenPlay_goalsF',\n",
    "       'A76+_shotsA', 'HshotOboxTotal_xGA', 'HRight_Pts', 'LY_HxG_y',\n",
    "       'H76+_xGD', 'HGoal diff -1_xGA', 'AshotSixYardBox_shotsA',\n",
    "       'ASavedShot_shotsA', 'L2LY_Hppda', 'HshotSixYardBox_xGA',\n",
    "       'H46-60_shotsA', 'HMissedShots_xGA', 'L2LY_Axpts', 'HshotOboxTotal_xGF',\n",
    "       'L2LY_Hshotstrgt', 'AFromCorner_xGA', 'AGoal diff +1_shotsF',\n",
    "       'HGoal_shotsF', 'A31-45_shotsF', 'L2LY_Dchance', 'LY_Hgoals_y',\n",
    "       'HBlockedShot_shotsF', 'HFromCorner_xGD', 'HRight_Avg_Finish',\n",
    "       'L2LY_Achance', 'AGoal diff -1_timeF', 'AMissedShots_xGD',\n",
    "       'HSetPiece_shotsF','Hteam_Arsenal'\n",
    ",'Hteam_Bournemouth'\n",
    ",'Hteam_Chelsea'\n",
    ",'Hteam_Crystal Palace'\n",
    ",'Hteam_Everton'\n",
    ",'Hteam_Leicester'\n",
    ",'Hteam_Liverpool'\n",
    ",'Hteam_Man City'\n",
    ",'Hteam_Man United'\n",
    ",'Hteam_Southampton'\n",
    ",'Hteam_Tottenham'\n",
    ",'Hteam_Watford'\n",
    ",'Hteam_West Ham'\n",
    ",'Ateam_Arsenal'\n",
    ",'Ateam_Bournemouth'\n",
    ",'Ateam_Chelsea'\n",
    ",'Ateam_Crystal Palace'\n",
    ",'Ateam_Everton'\n",
    ",'Ateam_Leicester'\n",
    ",'Ateam_Liverpool'\n",
    ",'Ateam_Man City'\n",
    ",'Ateam_Man United'\n",
    ",'Ateam_Southampton'\n",
    ",'Ateam_Tottenham'\n",
    ",'Ateam_Watford'\n",
    ",'Ateam_West Ham'\n",
    ",'FTR_y']]"
   ]
  },
  {
   "cell_type": "code",
   "execution_count": 4,
   "metadata": {},
   "outputs": [],
   "source": [
    "finaltestdf=finaltestdf[['H76+_shotsA', 'HPY_finish_flag', 'HMissedShots_shotsA',\n",
    "       'HRight_PY_finish_flag', 'LY_Hdeep_y', 'LY_AxG_y', 'HOpenPlay_goalsF',\n",
    "       'A76+_shotsA', 'HshotOboxTotal_xGA', 'HRight_Pts', 'LY_HxG_y',\n",
    "       'H76+_xGD', 'HGoal diff -1_xGA', 'AshotSixYardBox_shotsA',\n",
    "       'ASavedShot_shotsA', 'L2LY_Hppda', 'HshotSixYardBox_xGA',\n",
    "       'H46-60_shotsA', 'HMissedShots_xGA', 'L2LY_Axpts', 'HshotOboxTotal_xGF',\n",
    "       'L2LY_Hshotstrgt', 'AFromCorner_xGA', 'AGoal diff +1_shotsF',\n",
    "       'HGoal_shotsF', 'A31-45_shotsF', 'L2LY_Dchance', 'LY_Hgoals_y',\n",
    "       'HBlockedShot_shotsF', 'HFromCorner_xGD', 'HRight_Avg_Finish',\n",
    "       'L2LY_Achance', 'AGoal diff -1_timeF', 'AMissedShots_xGD',\n",
    "       'HSetPiece_shotsF','Hteam_Arsenal'\n",
    ",'Hteam_Bournemouth'\n",
    ",'Hteam_Chelsea'\n",
    ",'Hteam_Crystal Palace'\n",
    ",'Hteam_Everton'\n",
    ",'Hteam_Leicester'\n",
    ",'Hteam_Liverpool'\n",
    ",'Hteam_Man City'\n",
    ",'Hteam_Man United'\n",
    ",'Hteam_Southampton'\n",
    ",'Hteam_Tottenham'\n",
    ",'Hteam_Watford'\n",
    ",'Hteam_West Ham'\n",
    ",'Ateam_Arsenal'\n",
    ",'Ateam_Bournemouth'\n",
    ",'Ateam_Chelsea'\n",
    ",'Ateam_Crystal Palace'\n",
    ",'Ateam_Everton'\n",
    ",'Ateam_Leicester'\n",
    ",'Ateam_Liverpool'\n",
    ",'Ateam_Man City'\n",
    ",'Ateam_Man United'\n",
    ",'Ateam_Southampton'\n",
    ",'Ateam_Tottenham'\n",
    ",'Ateam_Watford'\n",
    ",'Ateam_West Ham'\n",
    ",'FTR_y']]"
   ]
  },
  {
   "cell_type": "code",
   "execution_count": 5,
   "metadata": {},
   "outputs": [],
   "source": [
    "arraytrain_f = finaltrainingdf.values\n",
    "arraytest_f = finaltestdf.values\n",
    "lst=list(finaltrainingdf.columns)\n",
    "lst.remove('FTR_y')"
   ]
  },
  {
   "cell_type": "code",
   "execution_count": 6,
   "metadata": {},
   "outputs": [],
   "source": [
    "X_train = arraytrain_f[:,0:61]\n",
    "Y_train = arraytrain_f[:,61]\n",
    "X_test = arraytest_f[:,0:61]\n",
    "Y_test = arraytest_f[:,61]"
   ]
  },
  {
   "cell_type": "code",
   "execution_count": 7,
   "metadata": {},
   "outputs": [
    {
     "data": {
      "text/html": [
       "<div>\n",
       "<style scoped>\n",
       "    .dataframe tbody tr th:only-of-type {\n",
       "        vertical-align: middle;\n",
       "    }\n",
       "\n",
       "    .dataframe tbody tr th {\n",
       "        vertical-align: top;\n",
       "    }\n",
       "\n",
       "    .dataframe thead th {\n",
       "        text-align: right;\n",
       "    }\n",
       "</style>\n",
       "<table border=\"1\" class=\"dataframe\">\n",
       "  <thead>\n",
       "    <tr style=\"text-align: right;\">\n",
       "      <th></th>\n",
       "      <th>H76+_shotsA</th>\n",
       "      <th>HPY_finish_flag</th>\n",
       "      <th>HMissedShots_shotsA</th>\n",
       "      <th>HRight_PY_finish_flag</th>\n",
       "      <th>LY_Hdeep_y</th>\n",
       "      <th>LY_AxG_y</th>\n",
       "      <th>HOpenPlay_goalsF</th>\n",
       "      <th>A76+_shotsA</th>\n",
       "      <th>HshotOboxTotal_xGA</th>\n",
       "      <th>HRight_Pts</th>\n",
       "      <th>...</th>\n",
       "      <th>L2LY_Dchance</th>\n",
       "      <th>LY_Hgoals_y</th>\n",
       "      <th>HBlockedShot_shotsF</th>\n",
       "      <th>HFromCorner_xGD</th>\n",
       "      <th>HRight_Avg_Finish</th>\n",
       "      <th>L2LY_Achance</th>\n",
       "      <th>AGoal diff -1_timeF</th>\n",
       "      <th>AMissedShots_xGD</th>\n",
       "      <th>HSetPiece_shotsF</th>\n",
       "      <th>Hteam_Arsenal</th>\n",
       "    </tr>\n",
       "  </thead>\n",
       "  <tbody>\n",
       "    <tr>\n",
       "      <th>0</th>\n",
       "      <td>116.5</td>\n",
       "      <td>2.0</td>\n",
       "      <td>232.0</td>\n",
       "      <td>3.0</td>\n",
       "      <td>13.0</td>\n",
       "      <td>0.67</td>\n",
       "      <td>74.0</td>\n",
       "      <td>150.5</td>\n",
       "      <td>7.723567</td>\n",
       "      <td>57.0</td>\n",
       "      <td>...</td>\n",
       "      <td>0.06</td>\n",
       "      <td>2.0</td>\n",
       "      <td>249.5</td>\n",
       "      <td>0.307900</td>\n",
       "      <td>7.0</td>\n",
       "      <td>0.01</td>\n",
       "      <td>853.0</td>\n",
       "      <td>-1.669417</td>\n",
       "      <td>28.5</td>\n",
       "      <td>0</td>\n",
       "    </tr>\n",
       "    <tr>\n",
       "      <th>1</th>\n",
       "      <td>95.0</td>\n",
       "      <td>1.0</td>\n",
       "      <td>159.5</td>\n",
       "      <td>3.0</td>\n",
       "      <td>19.0</td>\n",
       "      <td>0.34</td>\n",
       "      <td>100.0</td>\n",
       "      <td>178.0</td>\n",
       "      <td>4.756806</td>\n",
       "      <td>50.0</td>\n",
       "      <td>...</td>\n",
       "      <td>0.23</td>\n",
       "      <td>4.0</td>\n",
       "      <td>275.5</td>\n",
       "      <td>0.704360</td>\n",
       "      <td>10.0</td>\n",
       "      <td>0.10</td>\n",
       "      <td>912.0</td>\n",
       "      <td>-6.481132</td>\n",
       "      <td>33.5</td>\n",
       "      <td>0</td>\n",
       "    </tr>\n",
       "    <tr>\n",
       "      <th>2</th>\n",
       "      <td>127.5</td>\n",
       "      <td>2.0</td>\n",
       "      <td>239.5</td>\n",
       "      <td>1.0</td>\n",
       "      <td>7.0</td>\n",
       "      <td>1.93</td>\n",
       "      <td>84.0</td>\n",
       "      <td>81.5</td>\n",
       "      <td>6.951270</td>\n",
       "      <td>81.0</td>\n",
       "      <td>...</td>\n",
       "      <td>0.30</td>\n",
       "      <td>0.0</td>\n",
       "      <td>250.0</td>\n",
       "      <td>3.743238</td>\n",
       "      <td>3.0</td>\n",
       "      <td>0.54</td>\n",
       "      <td>331.5</td>\n",
       "      <td>18.947436</td>\n",
       "      <td>36.0</td>\n",
       "      <td>1</td>\n",
       "    </tr>\n",
       "    <tr>\n",
       "      <th>3</th>\n",
       "      <td>178.0</td>\n",
       "      <td>3.0</td>\n",
       "      <td>303.5</td>\n",
       "      <td>3.0</td>\n",
       "      <td>6.0</td>\n",
       "      <td>0.50</td>\n",
       "      <td>49.5</td>\n",
       "      <td>159.0</td>\n",
       "      <td>10.666123</td>\n",
       "      <td>44.0</td>\n",
       "      <td>...</td>\n",
       "      <td>0.19</td>\n",
       "      <td>1.0</td>\n",
       "      <td>172.0</td>\n",
       "      <td>-1.873864</td>\n",
       "      <td>12.0</td>\n",
       "      <td>0.06</td>\n",
       "      <td>1295.5</td>\n",
       "      <td>-11.615172</td>\n",
       "      <td>46.5</td>\n",
       "      <td>0</td>\n",
       "    </tr>\n",
       "    <tr>\n",
       "      <th>4</th>\n",
       "      <td>168.5</td>\n",
       "      <td>3.0</td>\n",
       "      <td>256.5</td>\n",
       "      <td>3.0</td>\n",
       "      <td>4.0</td>\n",
       "      <td>0.63</td>\n",
       "      <td>55.5</td>\n",
       "      <td>139.0</td>\n",
       "      <td>9.982390</td>\n",
       "      <td>48.0</td>\n",
       "      <td>...</td>\n",
       "      <td>0.17</td>\n",
       "      <td>1.0</td>\n",
       "      <td>158.5</td>\n",
       "      <td>-2.684903</td>\n",
       "      <td>10.0</td>\n",
       "      <td>0.09</td>\n",
       "      <td>832.5</td>\n",
       "      <td>1.849414</td>\n",
       "      <td>45.5</td>\n",
       "      <td>0</td>\n",
       "    </tr>\n",
       "  </tbody>\n",
       "</table>\n",
       "<p>5 rows × 36 columns</p>\n",
       "</div>"
      ],
      "text/plain": [
       "   H76+_shotsA  HPY_finish_flag  HMissedShots_shotsA  HRight_PY_finish_flag  \\\n",
       "0        116.5              2.0                232.0                    3.0   \n",
       "1         95.0              1.0                159.5                    3.0   \n",
       "2        127.5              2.0                239.5                    1.0   \n",
       "3        178.0              3.0                303.5                    3.0   \n",
       "4        168.5              3.0                256.5                    3.0   \n",
       "\n",
       "   LY_Hdeep_y  LY_AxG_y  HOpenPlay_goalsF  A76+_shotsA  HshotOboxTotal_xGA  \\\n",
       "0        13.0      0.67              74.0        150.5            7.723567   \n",
       "1        19.0      0.34             100.0        178.0            4.756806   \n",
       "2         7.0      1.93              84.0         81.5            6.951270   \n",
       "3         6.0      0.50              49.5        159.0           10.666123   \n",
       "4         4.0      0.63              55.5        139.0            9.982390   \n",
       "\n",
       "   HRight_Pts      ...        L2LY_Dchance  LY_Hgoals_y  HBlockedShot_shotsF  \\\n",
       "0        57.0      ...                0.06          2.0                249.5   \n",
       "1        50.0      ...                0.23          4.0                275.5   \n",
       "2        81.0      ...                0.30          0.0                250.0   \n",
       "3        44.0      ...                0.19          1.0                172.0   \n",
       "4        48.0      ...                0.17          1.0                158.5   \n",
       "\n",
       "   HFromCorner_xGD  HRight_Avg_Finish  L2LY_Achance  AGoal diff -1_timeF  \\\n",
       "0         0.307900                7.0          0.01                853.0   \n",
       "1         0.704360               10.0          0.10                912.0   \n",
       "2         3.743238                3.0          0.54                331.5   \n",
       "3        -1.873864               12.0          0.06               1295.5   \n",
       "4        -2.684903               10.0          0.09                832.5   \n",
       "\n",
       "   AMissedShots_xGD  HSetPiece_shotsF  Hteam_Arsenal  \n",
       "0         -1.669417              28.5              0  \n",
       "1         -6.481132              33.5              0  \n",
       "2         18.947436              36.0              1  \n",
       "3        -11.615172              46.5              0  \n",
       "4          1.849414              45.5              0  \n",
       "\n",
       "[5 rows x 36 columns]"
      ]
     },
     "execution_count": 7,
     "metadata": {},
     "output_type": "execute_result"
    }
   ],
   "source": [
    "finaltestdf.iloc[:,:36].head(5)"
   ]
  },
  {
   "cell_type": "code",
   "execution_count": 8,
   "metadata": {},
   "outputs": [],
   "source": [
    "def grid_train_test_plot(df,col,train,test,title,xlabel,ylabel,width,height,flag):\n",
    "    fig = plt.figure(figsize=(width,height))\n",
    "    x=len(df[col])\n",
    "    x_label=df[col].unique()\n",
    "    ax = fig.add_subplot(111,facecolor='white')\n",
    "    ax.plot(df[col], df[train], c = 'g', linewidth=2, alpha=0.7,label='Train ROC score')\n",
    "    ax.plot(df[col], df[test], c = 'b',linewidth=2, alpha=0.7,label='Test ROC score')\n",
    "    ax.scatter(df[col], df[train], c = 'g', alpha=0.7,label='Train ROC score')\n",
    "    ax.scatter(df[col], df[test], c = 'b',alpha=0.7,label='Test ROC score')\n",
    "    if(flag=='show'):\n",
    "        for i,j in zip(df[col],round(df[train],3)):\n",
    "            ax.annotate(str(j),xy=(i,j),color='black')\n",
    "        for i,j in zip(df[col],round(df[test],3)):\n",
    "            ax.annotate(str(j),xy=(i,j),color='black')\n",
    "    ax.legend()\n",
    "    plt.grid(zorder=0)\n",
    "    ax.set_title(title,fontsize=20,weight='bold')\n",
    "    ax.set_xlabel(xlabel,fontsize=10,weight='bold')\n",
    "    ax.set_ylabel(ylabel,fontsize=10,weight='bold')\n",
    "    handles, labels = ax.get_legend_handles_labels()\n",
    "    plt.show()"
   ]
  },
  {
   "cell_type": "markdown",
   "metadata": {},
   "source": [
    "#### 1. Logistic Regression"
   ]
  },
  {
   "cell_type": "markdown",
   "metadata": {},
   "source": [
    "Applying GridSearchCV for finding the optimal parameters"
   ]
  },
  {
   "cell_type": "code",
   "execution_count": 9,
   "metadata": {},
   "outputs": [],
   "source": [
    "lr_param_grid = {'C': [0.001, 0.01, 0.1, 1, 10, 100],'solver': ['newton-cg','sag','saga','lbfgs']}"
   ]
  },
  {
   "cell_type": "code",
   "execution_count": 10,
   "metadata": {},
   "outputs": [
    {
     "name": "stdout",
     "output_type": "stream",
     "text": [
      "Fitting 4 folds for each of 24 candidates, totalling 96 fits\n"
     ]
    },
    {
     "name": "stderr",
     "output_type": "stream",
     "text": [
      "[Parallel(n_jobs=-1)]: Done   2 tasks      | elapsed:    2.7s\n",
      "[Parallel(n_jobs=-1)]: Done   9 tasks      | elapsed:    8.6s\n",
      "[Parallel(n_jobs=-1)]: Done  16 tasks      | elapsed:    8.9s\n",
      "[Parallel(n_jobs=-1)]: Done  25 tasks      | elapsed:    9.4s\n",
      "[Parallel(n_jobs=-1)]: Done  34 tasks      | elapsed:   10.5s\n",
      "[Parallel(n_jobs=-1)]: Done  45 tasks      | elapsed:   11.5s\n",
      "[Parallel(n_jobs=-1)]: Done  56 tasks      | elapsed:   12.2s\n",
      "[Parallel(n_jobs=-1)]: Done  69 tasks      | elapsed:   14.0s\n",
      "[Parallel(n_jobs=-1)]: Done  91 out of  96 | elapsed:   18.2s remaining:    0.9s\n",
      "[Parallel(n_jobs=-1)]: Done  96 out of  96 | elapsed:   19.8s finished\n"
     ]
    },
    {
     "name": "stdout",
     "output_type": "stream",
     "text": [
      "Best Parameters : {'C': 0.01, 'solver': 'saga'}\n",
      "Best cross_val score : 0.6044444444444445\n"
     ]
    }
   ],
   "source": [
    "from sklearn.linear_model import LogisticRegression\n",
    "from sklearn.model_selection import GridSearchCV\n",
    "lr_grid_search = GridSearchCV(LogisticRegression(random_state = 10),lr_param_grid, cv=4, scoring='accuracy', n_jobs = -1,verbose=10)\n",
    "lr_grid_search.fit(X_train, Y_train)\n",
    "print(\"Best Parameters : {}\".format(lr_grid_search.best_params_))\n",
    "print(\"Best cross_val score : {}\".format(lr_grid_search.best_score_))"
   ]
  },
  {
   "cell_type": "code",
   "execution_count": 11,
   "metadata": {},
   "outputs": [
    {
     "name": "stdout",
     "output_type": "stream",
     "text": [
      "Logistic Regression - Train Accuracy: 0.61\n",
      "Logistic Regression - Test Accuracy: 0.57 \n"
     ]
    }
   ],
   "source": [
    "lr_accuracy_train = lr_grid_search.best_estimator_.score(X_train, Y_train)\n",
    "lr_accuracy_test = lr_grid_search.best_estimator_.score(X_test, Y_test)\n",
    "\n",
    "print('Logistic Regression - Train Accuracy: %.2f'%lr_accuracy_train)\n",
    "print('Logistic Regression - Test Accuracy: %.2f '%lr_accuracy_test)"
   ]
  },
  {
   "cell_type": "code",
   "execution_count": 12,
   "metadata": {},
   "outputs": [
    {
     "data": {
      "image/png": "[encoded data removed]",
      "text/plain": [
       "<Figure size 1008x432 with 1 Axes>"
      ]
     },
     "metadata": {},
     "output_type": "display_data"
    },
    {
     "data": {
      "text/html": [
       "<div>\n",
       "<style scoped>\n",
       "    .dataframe tbody tr th:only-of-type {\n",
       "        vertical-align: middle;\n",
       "    }\n",
       "\n",
       "    .dataframe tbody tr th {\n",
       "        vertical-align: top;\n",
       "    }\n",
       "\n",
       "    .dataframe thead th {\n",
       "        text-align: right;\n",
       "    }\n",
       "</style>\n",
       "<table border=\"1\" class=\"dataframe\">\n",
       "  <thead>\n",
       "    <tr style=\"text-align: right;\">\n",
       "      <th></th>\n",
       "      <th>0</th>\n",
       "      <th>1</th>\n",
       "      <th>2</th>\n",
       "      <th>3</th>\n",
       "      <th>4</th>\n",
       "      <th>5</th>\n",
       "      <th>6</th>\n",
       "      <th>7</th>\n",
       "      <th>8</th>\n",
       "      <th>9</th>\n",
       "      <th>...</th>\n",
       "      <th>14</th>\n",
       "      <th>15</th>\n",
       "      <th>16</th>\n",
       "      <th>17</th>\n",
       "      <th>18</th>\n",
       "      <th>19</th>\n",
       "      <th>20</th>\n",
       "      <th>21</th>\n",
       "      <th>22</th>\n",
       "      <th>23</th>\n",
       "    </tr>\n",
       "  </thead>\n",
       "  <tbody>\n",
       "    <tr>\n",
       "      <th>identifier</th>\n",
       "      <td>0</td>\n",
       "      <td>1</td>\n",
       "      <td>2</td>\n",
       "      <td>3</td>\n",
       "      <td>4</td>\n",
       "      <td>5</td>\n",
       "      <td>6</td>\n",
       "      <td>7</td>\n",
       "      <td>8</td>\n",
       "      <td>9</td>\n",
       "      <td>...</td>\n",
       "      <td>14</td>\n",
       "      <td>15</td>\n",
       "      <td>16</td>\n",
       "      <td>17</td>\n",
       "      <td>18</td>\n",
       "      <td>19</td>\n",
       "      <td>20</td>\n",
       "      <td>21</td>\n",
       "      <td>22</td>\n",
       "      <td>23</td>\n",
       "    </tr>\n",
       "    <tr>\n",
       "      <th>identifier_name</th>\n",
       "      <td>'C': 0.001, 'solver': 'newton-cg'</td>\n",
       "      <td>'C': 0.001, 'solver': 'sag'</td>\n",
       "      <td>'C': 0.001, 'solver': 'saga'</td>\n",
       "      <td>'C': 0.001, 'solver': 'lbfgs'</td>\n",
       "      <td>'C': 0.01, 'solver': 'newton-cg'</td>\n",
       "      <td>'C': 0.01, 'solver': 'sag'</td>\n",
       "      <td>'C': 0.01, 'solver': 'saga'</td>\n",
       "      <td>'C': 0.01, 'solver': 'lbfgs'</td>\n",
       "      <td>'C': 0.1, 'solver': 'newton-cg'</td>\n",
       "      <td>'C': 0.1, 'solver': 'sag'</td>\n",
       "      <td>...</td>\n",
       "      <td>'C': 1, 'solver': 'saga'</td>\n",
       "      <td>'C': 1, 'solver': 'lbfgs'</td>\n",
       "      <td>'C': 10, 'solver': 'newton-cg'</td>\n",
       "      <td>'C': 10, 'solver': 'sag'</td>\n",
       "      <td>'C': 10, 'solver': 'saga'</td>\n",
       "      <td>'C': 10, 'solver': 'lbfgs'</td>\n",
       "      <td>'C': 100, 'solver': 'newton-cg'</td>\n",
       "      <td>'C': 100, 'solver': 'sag'</td>\n",
       "      <td>'C': 100, 'solver': 'saga'</td>\n",
       "      <td>'C': 100, 'solver': 'lbfgs'</td>\n",
       "    </tr>\n",
       "  </tbody>\n",
       "</table>\n",
       "<p>2 rows × 24 columns</p>\n",
       "</div>"
      ],
      "text/plain": [
       "                                                0   \\\n",
       "identifier                                       0   \n",
       "identifier_name  'C': 0.001, 'solver': 'newton-cg'   \n",
       "\n",
       "                                          1                             2   \\\n",
       "identifier                                 1                             2   \n",
       "identifier_name  'C': 0.001, 'solver': 'sag'  'C': 0.001, 'solver': 'saga'   \n",
       "\n",
       "                                            3   \\\n",
       "identifier                                   3   \n",
       "identifier_name  'C': 0.001, 'solver': 'lbfgs'   \n",
       "\n",
       "                                               4                           5   \\\n",
       "identifier                                      4                           5   \n",
       "identifier_name  'C': 0.01, 'solver': 'newton-cg'  'C': 0.01, 'solver': 'sag'   \n",
       "\n",
       "                                          6                             7   \\\n",
       "identifier                                 6                             7   \n",
       "identifier_name  'C': 0.01, 'solver': 'saga'  'C': 0.01, 'solver': 'lbfgs'   \n",
       "\n",
       "                                              8                          9   \\\n",
       "identifier                                     8                          9   \n",
       "identifier_name  'C': 0.1, 'solver': 'newton-cg'  'C': 0.1, 'solver': 'sag'   \n",
       "\n",
       "                            ...                                     14  \\\n",
       "identifier                  ...                                     14   \n",
       "identifier_name             ...               'C': 1, 'solver': 'saga'   \n",
       "\n",
       "                                        15                              16  \\\n",
       "identifier                              15                              16   \n",
       "identifier_name  'C': 1, 'solver': 'lbfgs'  'C': 10, 'solver': 'newton-cg'   \n",
       "\n",
       "                                       17                         18  \\\n",
       "identifier                             17                         18   \n",
       "identifier_name  'C': 10, 'solver': 'sag'  'C': 10, 'solver': 'saga'   \n",
       "\n",
       "                                         19                               20  \\\n",
       "identifier                               19                               20   \n",
       "identifier_name  'C': 10, 'solver': 'lbfgs'  'C': 100, 'solver': 'newton-cg'   \n",
       "\n",
       "                                        21                          22  \\\n",
       "identifier                              21                          22   \n",
       "identifier_name  'C': 100, 'solver': 'sag'  'C': 100, 'solver': 'saga'   \n",
       "\n",
       "                                          23  \n",
       "identifier                                23  \n",
       "identifier_name  'C': 100, 'solver': 'lbfgs'  \n",
       "\n",
       "[2 rows x 24 columns]"
      ]
     },
     "execution_count": 12,
     "metadata": {},
     "output_type": "execute_result"
    }
   ],
   "source": [
    "lrclassresults = pd.DataFrame(lr_grid_search.cv_results_)\n",
    "lrclassresults['identifier_name'] = lrclassresults.params.apply(lambda x: str(x).replace('{','').replace('}',''))\n",
    "lrclassresults['identifier'] = (lrclassresults.index)\n",
    "grid_train_test_plot(lrclassresults,'identifier','mean_train_score','mean_test_score','Grid Search Train Test Plot','Parameters','Scores',14,6,'show')\n",
    "lrclassresults[['identifier','identifier_name']].transpose()"
   ]
  },
  {
   "cell_type": "code",
   "execution_count": 13,
   "metadata": {},
   "outputs": [],
   "source": [
    "log_reg = LogisticRegression(random_state=0,C=0.01,solver='saga',max_iter=10000)\n",
    "log_reg.fit(X_train,Y_train)\n",
    "train_score = log_reg.score(X_train,Y_train)\n",
    "test_score =log_reg.score(X_test,Y_test)\n",
    "predictions = log_reg.predict(X_test)"
   ]
  },
  {
   "cell_type": "code",
   "execution_count": 14,
   "metadata": {},
   "outputs": [
    {
     "name": "stdout",
     "output_type": "stream",
     "text": [
      "Logistic Regression - Train Accuracy: 0.60\n",
      "Logistic Regression - Test Accuracy: 0.53 \n"
     ]
    }
   ],
   "source": [
    "print('Logistic Regression - Train Accuracy: %.2f'%train_score)\n",
    "print('Logistic Regression - Test Accuracy: %.2f '%test_score)"
   ]
  },
  {
   "cell_type": "code",
   "execution_count": 15,
   "metadata": {},
   "outputs": [],
   "source": [
    "testdf= finaldf[(finaldf['season']==2018)]"
   ]
  },
  {
   "cell_type": "code",
   "execution_count": 16,
   "metadata": {},
   "outputs": [],
   "source": [
    "hwin_prob=[]\n",
    "draw_prob=[]\n",
    "awin_prob=[]\n",
    "home_team=[]\n",
    "away_team=[]\n",
    "model_predict_out=[]\n",
    "lgcl_predict_out=[]\n",
    "actual_out=[]\n",
    "for i in range(0,X_test.shape[0]):\n",
    "    home_team.append(testdf.HomeTeam.iloc[i])\n",
    "    away_team.append(testdf.AwayTeam.iloc[i])\n",
    "    hwin_prob.append(log_reg.predict_proba(X_test)[i][1])\n",
    "    draw_prob.append(log_reg.predict_proba(X_test)[i][0])\n",
    "    awin_prob.append(log_reg.predict_proba(X_test)[i][2])\n",
    "    if (Y_test[i]==2):\n",
    "        actual_out.append('Away')\n",
    "    elif (Y_test[i]==1):\n",
    "        actual_out.append('Home')\n",
    "    else:\n",
    "        actual_out.append('Draw')\n",
    "    if (log_reg.predict(X_test)[i]==2):\n",
    "        model_predict_out.append('Away')\n",
    "    elif (log_reg.predict(X_test)[i]==1):\n",
    "        model_predict_out.append('Home')\n",
    "    else:\n",
    "        model_predict_out.append('Draw')\n",
    "    if (abs(log_reg.predict_proba(X_test)[i][1]-log_reg.predict_proba(X_test)[i][2])>log_reg.predict_proba(X_test)[i][0]):\n",
    "        if (log_reg.predict_proba(X_test)[i][1]>log_reg.predict_proba(X_test)[i][2]):\n",
    "            lgcl_predict_out.append('Home')\n",
    "        else:\n",
    "            lgcl_predict_out.append('Away')\n",
    "    else:\n",
    "        lgcl_predict_out.append('Draw')"
   ]
  },
  {
   "cell_type": "code",
   "execution_count": 17,
   "metadata": {},
   "outputs": [],
   "source": [
    "result=pd.DataFrame(\n",
    "    {'HomeTeam': home_team,\n",
    "     'AwayTeam': away_team,\n",
    "     'HomeWinProb': hwin_prob,\n",
    "     'DrawProb': draw_prob,\n",
    "     'AwayWinProb': awin_prob,\n",
    "     'Prdctd_Winner': model_predict_out,\n",
    "     'Lgcl_Winner': lgcl_predict_out,\n",
    "     'Actual_Result':actual_out\n",
    "    })"
   ]
  },
  {
   "cell_type": "code",
   "execution_count": 18,
   "metadata": {},
   "outputs": [],
   "source": [
    "result.to_csv('Logisitic_Predictions.csv')"
   ]
  },
  {
   "cell_type": "code",
   "execution_count": 19,
   "metadata": {},
   "outputs": [],
   "source": [
    "from sklearn import metrics\n",
    "from sklearn.metrics import accuracy_score\n",
    "import scikitplot as skplt\n",
    "def final_metrics(log_final,y_test,y_pred_log):\n",
    "    log_metrics = {'Accuracy' : metrics.accuracy_score(y_test, y_pred_log),\n",
    "                     'Precision' : metrics.precision_score(y_test, y_pred_log,average=None,pos_label=3),\n",
    "                     'Recall' : metrics.recall_score(y_test, y_pred_log,average=None,pos_label=3),\n",
    "                     'F1 Score' : metrics.f1_score(y_test, y_pred_log,average=None,pos_label=3),\n",
    "                     #'ROC-AUC Score' : metrics.roc_auc_score(y_test, y_pred_log,average=None,pos_label=3),\n",
    "                    }\n",
    "    df_logmetrics = pd.DataFrame.from_dict(log_metrics, orient='index',columns=['Scores'])\n",
    "   # skplt.metrics.plot_confusion_matrix(y_test, y_pred_log,cmap=plt.cm.Blues)\n",
    "    return df_logmetrics\n",
    "def plot_roc(model,x_test,y_test):\n",
    "    model_proba = model.predict_proba(x_test)\n",
    "    fig = plt.figure()\n",
    "    ax1 = fig.add_subplot()\n",
    "    skplt.metrics.plot_roc(y_test,model_proba ,figsize = (15,7),title_fontsize='large',text_fontsize='large')                \n",
    "    return None"
   ]
  },
  {
   "cell_type": "code",
   "execution_count": 20,
   "metadata": {},
   "outputs": [
    {
     "data": {
      "text/html": [
       "<div>\n",
       "<style scoped>\n",
       "    .dataframe tbody tr th:only-of-type {\n",
       "        vertical-align: middle;\n",
       "    }\n",
       "\n",
       "    .dataframe tbody tr th {\n",
       "        vertical-align: top;\n",
       "    }\n",
       "\n",
       "    .dataframe thead th {\n",
       "        text-align: right;\n",
       "    }\n",
       "</style>\n",
       "<table border=\"1\" class=\"dataframe\">\n",
       "  <thead>\n",
       "    <tr style=\"text-align: right;\">\n",
       "      <th></th>\n",
       "      <th>Scores</th>\n",
       "    </tr>\n",
       "  </thead>\n",
       "  <tbody>\n",
       "    <tr>\n",
       "      <th>Accuracy</th>\n",
       "      <td>0.534884</td>\n",
       "    </tr>\n",
       "    <tr>\n",
       "      <th>Precision</th>\n",
       "      <td>[0.0, 0.5510204081632653, 0.5588235294117647]</td>\n",
       "    </tr>\n",
       "    <tr>\n",
       "      <th>Recall</th>\n",
       "      <td>[0.0, 0.7297297297297297, 0.59375]</td>\n",
       "    </tr>\n",
       "    <tr>\n",
       "      <th>F1 Score</th>\n",
       "      <td>[0.0, 0.6279069767441859, 0.5757575757575757]</td>\n",
       "    </tr>\n",
       "  </tbody>\n",
       "</table>\n",
       "</div>"
      ],
      "text/plain": [
       "                                                  Scores\n",
       "Accuracy                                        0.534884\n",
       "Precision  [0.0, 0.5510204081632653, 0.5588235294117647]\n",
       "Recall                [0.0, 0.7297297297297297, 0.59375]\n",
       "F1 Score   [0.0, 0.6279069767441859, 0.5757575757575757]"
      ]
     },
     "execution_count": 20,
     "metadata": {},
     "output_type": "execute_result"
    }
   ],
   "source": [
    "final_metrics(log_reg,Y_test,predictions)"
   ]
  },
  {
   "cell_type": "code",
   "execution_count": 21,
   "metadata": {},
   "outputs": [
    {
     "data": {
      "text/plain": [
       "<Figure size 432x288 with 0 Axes>"
      ]
     },
     "metadata": {},
     "output_type": "display_data"
    },
    {
     "data": {
      "image/png": "[encoded data removed]",
      "text/plain": [
       "<Figure size 1080x504 with 1 Axes>"
      ]
     },
     "metadata": {},
     "output_type": "display_data"
    }
   ],
   "source": [
    "plot_roc(log_reg,X_test,Y_test)"
   ]
  },
  {
   "cell_type": "markdown",
   "metadata": {},
   "source": [
    "#### 2. Support Vector Classifier"
   ]
  },
  {
   "cell_type": "code",
   "execution_count": 22,
   "metadata": {},
   "outputs": [],
   "source": [
    "linsvc_param_grid = [{'C':[0.001, 0.01, 0.1, 1, 10, 100],'penalty':['l2'],'loss':['hinge','squared_hinge']},\n",
    "                     {'C':[0.001, 0.01, 0.1, 1, 10, 100],'penalty':['l1'],'dual':[False],'loss':['squared_hinge']}]"
   ]
  },
  {
   "cell_type": "code",
   "execution_count": 23,
   "metadata": {},
   "outputs": [
    {
     "name": "stdout",
     "output_type": "stream",
     "text": [
      "Fitting 5 folds for each of 18 candidates, totalling 90 fits\n"
     ]
    },
    {
     "name": "stderr",
     "output_type": "stream",
     "text": [
      "[Parallel(n_jobs=-1)]: Done   2 tasks      | elapsed:    2.6s\n",
      "[Parallel(n_jobs=-1)]: Done   9 tasks      | elapsed:    8.8s\n",
      "[Parallel(n_jobs=-1)]: Done  16 tasks      | elapsed:    9.1s\n",
      "[Parallel(n_jobs=-1)]: Done  25 tasks      | elapsed:    9.5s\n",
      "[Parallel(n_jobs=-1)]: Done  34 tasks      | elapsed:   10.0s\n",
      "[Parallel(n_jobs=-1)]: Done  45 tasks      | elapsed:   10.7s\n",
      "[Parallel(n_jobs=-1)]: Done  56 tasks      | elapsed:   11.2s\n",
      "[Parallel(n_jobs=-1)]: Done  69 tasks      | elapsed:   11.6s\n",
      "[Parallel(n_jobs=-1)]: Done  85 out of  90 | elapsed:   12.4s remaining:    0.6s\n",
      "[Parallel(n_jobs=-1)]: Done  90 out of  90 | elapsed:   12.5s finished\n"
     ]
    },
    {
     "name": "stdout",
     "output_type": "stream",
     "text": [
      "Best Parameters : {'C': 0.01, 'dual': False, 'loss': 'squared_hinge', 'penalty': 'l1'}\n",
      "Best cross_val score : 0.5888888888888889\n"
     ]
    }
   ],
   "source": [
    "from sklearn.svm import LinearSVC\n",
    "linsvc_grid_search = GridSearchCV(LinearSVC(random_state = 10),linsvc_param_grid, cv=5, scoring='accuracy', n_jobs = -1,verbose=10)\n",
    "linsvc_grid_search.fit(X_train, Y_train)\n",
    "print(\"Best Parameters : {}\".format(linsvc_grid_search.best_params_))\n",
    "print(\"Best cross_val score : {}\".format(linsvc_grid_search.best_score_))"
   ]
  },
  {
   "cell_type": "code",
   "execution_count": 24,
   "metadata": {},
   "outputs": [
    {
     "data": {
      "image/png": "[encoded data removed]",
      "text/plain": [
       "<Figure size 1008x432 with 1 Axes>"
      ]
     },
     "metadata": {},
     "output_type": "display_data"
    },
    {
     "data": {
      "text/html": [
       "<div>\n",
       "<style scoped>\n",
       "    .dataframe tbody tr th:only-of-type {\n",
       "        vertical-align: middle;\n",
       "    }\n",
       "\n",
       "    .dataframe tbody tr th {\n",
       "        vertical-align: top;\n",
       "    }\n",
       "\n",
       "    .dataframe thead th {\n",
       "        text-align: right;\n",
       "    }\n",
       "</style>\n",
       "<table border=\"1\" class=\"dataframe\">\n",
       "  <thead>\n",
       "    <tr style=\"text-align: right;\">\n",
       "      <th></th>\n",
       "      <th>0</th>\n",
       "      <th>1</th>\n",
       "      <th>2</th>\n",
       "      <th>3</th>\n",
       "      <th>4</th>\n",
       "      <th>5</th>\n",
       "      <th>6</th>\n",
       "      <th>7</th>\n",
       "      <th>8</th>\n",
       "      <th>9</th>\n",
       "      <th>10</th>\n",
       "      <th>11</th>\n",
       "      <th>12</th>\n",
       "      <th>13</th>\n",
       "      <th>14</th>\n",
       "      <th>15</th>\n",
       "      <th>16</th>\n",
       "      <th>17</th>\n",
       "    </tr>\n",
       "  </thead>\n",
       "  <tbody>\n",
       "    <tr>\n",
       "      <th>identifier</th>\n",
       "      <td>0</td>\n",
       "      <td>1</td>\n",
       "      <td>2</td>\n",
       "      <td>3</td>\n",
       "      <td>4</td>\n",
       "      <td>5</td>\n",
       "      <td>6</td>\n",
       "      <td>7</td>\n",
       "      <td>8</td>\n",
       "      <td>9</td>\n",
       "      <td>10</td>\n",
       "      <td>11</td>\n",
       "      <td>12</td>\n",
       "      <td>13</td>\n",
       "      <td>14</td>\n",
       "      <td>15</td>\n",
       "      <td>16</td>\n",
       "      <td>17</td>\n",
       "    </tr>\n",
       "    <tr>\n",
       "      <th>identifier_name</th>\n",
       "      <td>'C': 0.001, 'loss': 'hinge', 'penalty': 'l2'</td>\n",
       "      <td>'C': 0.001, 'loss': 'squared_hinge', 'penalty'...</td>\n",
       "      <td>'C': 0.01, 'loss': 'hinge', 'penalty': 'l2'</td>\n",
       "      <td>'C': 0.01, 'loss': 'squared_hinge', 'penalty':...</td>\n",
       "      <td>'C': 0.1, 'loss': 'hinge', 'penalty': 'l2'</td>\n",
       "      <td>'C': 0.1, 'loss': 'squared_hinge', 'penalty': ...</td>\n",
       "      <td>'C': 1, 'loss': 'hinge', 'penalty': 'l2'</td>\n",
       "      <td>'C': 1, 'loss': 'squared_hinge', 'penalty': 'l2'</td>\n",
       "      <td>'C': 10, 'loss': 'hinge', 'penalty': 'l2'</td>\n",
       "      <td>'C': 10, 'loss': 'squared_hinge', 'penalty': 'l2'</td>\n",
       "      <td>'C': 100, 'loss': 'hinge', 'penalty': 'l2'</td>\n",
       "      <td>'C': 100, 'loss': 'squared_hinge', 'penalty': ...</td>\n",
       "      <td>'C': 0.001, 'dual': False, 'loss': 'squared_hi...</td>\n",
       "      <td>'C': 0.01, 'dual': False, 'loss': 'squared_hin...</td>\n",
       "      <td>'C': 0.1, 'dual': False, 'loss': 'squared_hing...</td>\n",
       "      <td>'C': 1, 'dual': False, 'loss': 'squared_hinge'...</td>\n",
       "      <td>'C': 10, 'dual': False, 'loss': 'squared_hinge...</td>\n",
       "      <td>'C': 100, 'dual': False, 'loss': 'squared_hing...</td>\n",
       "    </tr>\n",
       "  </tbody>\n",
       "</table>\n",
       "</div>"
      ],
      "text/plain": [
       "                                                           0   \\\n",
       "identifier                                                  0   \n",
       "identifier_name  'C': 0.001, 'loss': 'hinge', 'penalty': 'l2'   \n",
       "\n",
       "                                                                1   \\\n",
       "identifier                                                       1   \n",
       "identifier_name  'C': 0.001, 'loss': 'squared_hinge', 'penalty'...   \n",
       "\n",
       "                                                          2   \\\n",
       "identifier                                                 2   \n",
       "identifier_name  'C': 0.01, 'loss': 'hinge', 'penalty': 'l2'   \n",
       "\n",
       "                                                                3   \\\n",
       "identifier                                                       3   \n",
       "identifier_name  'C': 0.01, 'loss': 'squared_hinge', 'penalty':...   \n",
       "\n",
       "                                                         4   \\\n",
       "identifier                                                4   \n",
       "identifier_name  'C': 0.1, 'loss': 'hinge', 'penalty': 'l2'   \n",
       "\n",
       "                                                                5   \\\n",
       "identifier                                                       5   \n",
       "identifier_name  'C': 0.1, 'loss': 'squared_hinge', 'penalty': ...   \n",
       "\n",
       "                                                       6   \\\n",
       "identifier                                              6   \n",
       "identifier_name  'C': 1, 'loss': 'hinge', 'penalty': 'l2'   \n",
       "\n",
       "                                                               7   \\\n",
       "identifier                                                      7   \n",
       "identifier_name  'C': 1, 'loss': 'squared_hinge', 'penalty': 'l2'   \n",
       "\n",
       "                                                        8   \\\n",
       "identifier                                               8   \n",
       "identifier_name  'C': 10, 'loss': 'hinge', 'penalty': 'l2'   \n",
       "\n",
       "                                                                9   \\\n",
       "identifier                                                       9   \n",
       "identifier_name  'C': 10, 'loss': 'squared_hinge', 'penalty': 'l2'   \n",
       "\n",
       "                                                         10  \\\n",
       "identifier                                               10   \n",
       "identifier_name  'C': 100, 'loss': 'hinge', 'penalty': 'l2'   \n",
       "\n",
       "                                                                11  \\\n",
       "identifier                                                      11   \n",
       "identifier_name  'C': 100, 'loss': 'squared_hinge', 'penalty': ...   \n",
       "\n",
       "                                                                12  \\\n",
       "identifier                                                      12   \n",
       "identifier_name  'C': 0.001, 'dual': False, 'loss': 'squared_hi...   \n",
       "\n",
       "                                                                13  \\\n",
       "identifier                                                      13   \n",
       "identifier_name  'C': 0.01, 'dual': False, 'loss': 'squared_hin...   \n",
       "\n",
       "                                                                14  \\\n",
       "identifier                                                      14   \n",
       "identifier_name  'C': 0.1, 'dual': False, 'loss': 'squared_hing...   \n",
       "\n",
       "                                                                15  \\\n",
       "identifier                                                      15   \n",
       "identifier_name  'C': 1, 'dual': False, 'loss': 'squared_hinge'...   \n",
       "\n",
       "                                                                16  \\\n",
       "identifier                                                      16   \n",
       "identifier_name  'C': 10, 'dual': False, 'loss': 'squared_hinge...   \n",
       "\n",
       "                                                                17  \n",
       "identifier                                                      17  \n",
       "identifier_name  'C': 100, 'dual': False, 'loss': 'squared_hing...  "
      ]
     },
     "execution_count": 24,
     "metadata": {},
     "output_type": "execute_result"
    }
   ],
   "source": [
    "linsvcclassresults = pd.DataFrame(linsvc_grid_search.cv_results_)\n",
    "linsvcclassresults['identifier_name'] = linsvcclassresults.params.apply(lambda x: str(x).replace('{','').replace('}',''))\n",
    "linsvcclassresults['identifier'] = (linsvcclassresults.index)\n",
    "grid_train_test_plot(linsvcclassresults,'identifier','mean_train_score','mean_test_score','Grid Search Train Test Plot','Parameters','Scores',14,6,'hide')\n",
    "linsvcclassresults[['identifier','identifier_name']].transpose()"
   ]
  },
  {
   "cell_type": "code",
   "execution_count": 25,
   "metadata": {},
   "outputs": [
    {
     "name": "stdout",
     "output_type": "stream",
     "text": [
      "Linear Support Vector Machine Classifier - Train Accuracy: 0.60\n",
      "Linear Support Vector Machine Classifier - Test Accuracy: 0.56 \n"
     ]
    }
   ],
   "source": [
    "lsvc_accuracy_train = linsvc_grid_search.best_estimator_.score(X_train, Y_train)\n",
    "lsvc_accuracy_test = linsvc_grid_search.best_estimator_.score(X_test, Y_test)\n",
    "\n",
    "print('Linear Support Vector Machine Classifier - Train Accuracy: %.2f'%lsvc_accuracy_train)\n",
    "print('Linear Support Vector Machine Classifier - Test Accuracy: %.2f '%lsvc_accuracy_test)"
   ]
  },
  {
   "cell_type": "code",
   "execution_count": 26,
   "metadata": {},
   "outputs": [],
   "source": [
    "svc_reg = LinearSVC(random_state=0,C=0.01,dual= False, loss= 'squared_hinge', penalty= 'l1')\n",
    "svc_reg.fit(X_train,Y_train)\n",
    "train_score = svc_reg.score(X_train,Y_train)\n",
    "test_score =svc_reg.score(X_test,Y_test)\n",
    "predictions = svc_reg.predict(X_test)"
   ]
  },
  {
   "cell_type": "code",
   "execution_count": 27,
   "metadata": {},
   "outputs": [
    {
     "name": "stdout",
     "output_type": "stream",
     "text": [
      "Linear SVC Regression - Train Accuracy: 0.60\n",
      "Linear SVC Regression - Test Accuracy: 0.55 \n"
     ]
    }
   ],
   "source": [
    "print('Linear SVC Regression - Train Accuracy: %.2f'%train_score)\n",
    "print('Linear SVC Regression - Test Accuracy: %.2f '%test_score)"
   ]
  },
  {
   "cell_type": "code",
   "execution_count": 28,
   "metadata": {},
   "outputs": [],
   "source": [
    "home_team=[]\n",
    "away_team=[]\n",
    "model_predict_out=[]\n",
    "actual_out=[]\n",
    "for i in range(0,X_test.shape[0]):\n",
    "    home_team.append(testdf.HomeTeam.iloc[i])\n",
    "    away_team.append(testdf.AwayTeam.iloc[i])\n",
    "    if (svc_reg.predict(X_test)[i]==2):\n",
    "        model_predict_out.append('Away')\n",
    "    elif (svc_reg.predict(X_test)[i]==1):\n",
    "        model_predict_out.append('Home')\n",
    "    else:\n",
    "        model_predict_out.append('Draw')\n",
    "    if (Y_test[i]==2):\n",
    "        actual_out.append('Away')\n",
    "    elif (Y_test[i]==1):\n",
    "        actual_out.append('Home')\n",
    "    else:\n",
    "        actual_out.append('Draw')"
   ]
  },
  {
   "cell_type": "code",
   "execution_count": 30,
   "metadata": {},
   "outputs": [],
   "source": [
    "result=pd.DataFrame(\n",
    "    {'HomeTeam': home_team,\n",
    "     'AwayTeam': away_team,\n",
    "     'Prdctd_Winner': model_predict_out,\n",
    "     'Actual_Winner': actual_out\n",
    "    })"
   ]
  },
  {
   "cell_type": "code",
   "execution_count": 31,
   "metadata": {},
   "outputs": [],
   "source": [
    "result.to_csv('SVC_Predictions.csv')"
   ]
  },
  {
   "cell_type": "code",
   "execution_count": 32,
   "metadata": {},
   "outputs": [
    {
     "data": {
      "text/html": [
       "<div>\n",
       "<style scoped>\n",
       "    .dataframe tbody tr th:only-of-type {\n",
       "        vertical-align: middle;\n",
       "    }\n",
       "\n",
       "    .dataframe tbody tr th {\n",
       "        vertical-align: top;\n",
       "    }\n",
       "\n",
       "    .dataframe thead th {\n",
       "        text-align: right;\n",
       "    }\n",
       "</style>\n",
       "<table border=\"1\" class=\"dataframe\">\n",
       "  <thead>\n",
       "    <tr style=\"text-align: right;\">\n",
       "      <th></th>\n",
       "      <th>Scores</th>\n",
       "    </tr>\n",
       "  </thead>\n",
       "  <tbody>\n",
       "    <tr>\n",
       "      <th>Accuracy</th>\n",
       "      <td>0.546512</td>\n",
       "    </tr>\n",
       "    <tr>\n",
       "      <th>Precision</th>\n",
       "      <td>[0.0, 0.5272727272727272, 0.5806451612903226]</td>\n",
       "    </tr>\n",
       "    <tr>\n",
       "      <th>Recall</th>\n",
       "      <td>[0.0, 0.7837837837837838, 0.5625]</td>\n",
       "    </tr>\n",
       "    <tr>\n",
       "      <th>F1 Score</th>\n",
       "      <td>[0.0, 0.6304347826086956, 0.5714285714285715]</td>\n",
       "    </tr>\n",
       "  </tbody>\n",
       "</table>\n",
       "</div>"
      ],
      "text/plain": [
       "                                                  Scores\n",
       "Accuracy                                        0.546512\n",
       "Precision  [0.0, 0.5272727272727272, 0.5806451612903226]\n",
       "Recall                 [0.0, 0.7837837837837838, 0.5625]\n",
       "F1 Score   [0.0, 0.6304347826086956, 0.5714285714285715]"
      ]
     },
     "execution_count": 32,
     "metadata": {},
     "output_type": "execute_result"
    }
   ],
   "source": [
    "final_metrics(svc_reg,Y_test,predictions)"
   ]
  },
  {
   "cell_type": "markdown",
   "metadata": {},
   "source": [
    "#### 3. Random Forest Regression"
   ]
  },
  {
   "cell_type": "code",
   "execution_count": 33,
   "metadata": {},
   "outputs": [],
   "source": [
    "feature_list = list(finaltrainingdf.columns)\n",
    "feature_list.remove('FTR_y')\n",
    "#feature_list.remove('Unnamed: 0')"
   ]
  },
  {
   "cell_type": "code",
   "execution_count": 34,
   "metadata": {},
   "outputs": [],
   "source": [
    "rf_param_grid = [{'n_estimators':[100,500,1000,1500,1800],'criterion':['gini','entropy']}]"
   ]
  },
  {
   "cell_type": "code",
   "execution_count": 35,
   "metadata": {},
   "outputs": [
    {
     "name": "stdout",
     "output_type": "stream",
     "text": [
      "Fitting 5 folds for each of 10 candidates, totalling 50 fits\n"
     ]
    },
    {
     "name": "stderr",
     "output_type": "stream",
     "text": [
      "[Parallel(n_jobs=-1)]: Done   2 tasks      | elapsed:    2.6s\n",
      "[Parallel(n_jobs=-1)]: Done   9 tasks      | elapsed:    9.4s\n",
      "[Parallel(n_jobs=-1)]: Done  16 tasks      | elapsed:   13.7s\n",
      "[Parallel(n_jobs=-1)]: Done  25 tasks      | elapsed:   15.5s\n",
      "[Parallel(n_jobs=-1)]: Done  34 tasks      | elapsed:   18.8s\n",
      "[Parallel(n_jobs=-1)]: Done  41 out of  50 | elapsed:   22.4s remaining:    4.8s\n",
      "[Parallel(n_jobs=-1)]: Done  47 out of  50 | elapsed:   25.1s remaining:    1.5s\n",
      "[Parallel(n_jobs=-1)]: Done  50 out of  50 | elapsed:   27.1s finished\n"
     ]
    },
    {
     "name": "stdout",
     "output_type": "stream",
     "text": [
      "Best Parameters : {'criterion': 'entropy', 'n_estimators': 1000}\n",
      "Best cross_val score : 0.5955555555555555\n"
     ]
    }
   ],
   "source": [
    "# Import the model we are using\n",
    "from sklearn.model_selection import GridSearchCV\n",
    "from sklearn.ensemble import RandomForestClassifier\n",
    "rf_grid_search = GridSearchCV(RandomForestClassifier(random_state = 10),rf_param_grid, cv=5, scoring='accuracy', n_jobs = -1,verbose=10)\n",
    "rf_grid_search.fit(X_train, Y_train)\n",
    "print(\"Best Parameters : {}\".format(rf_grid_search.best_params_))\n",
    "print(\"Best cross_val score : {}\".format(rf_grid_search.best_score_))"
   ]
  },
  {
   "cell_type": "code",
   "execution_count": 36,
   "metadata": {},
   "outputs": [],
   "source": [
    "# Import the model we are using\n",
    "from sklearn.ensemble import RandomForestClassifier\n",
    "# Instantiate model with 1000 decision trees\n",
    "rf = RandomForestClassifier(n_estimators = 1000, random_state = 0,criterion='entropy')\n",
    "# Train the model on training data\n",
    "rf.fit(X_train, Y_train);"
   ]
  },
  {
   "cell_type": "code",
   "execution_count": 37,
   "metadata": {},
   "outputs": [
    {
     "name": "stdout",
     "output_type": "stream",
     "text": [
      "Mean Absolute Error: 0.53 degrees.\n"
     ]
    }
   ],
   "source": [
    "# Use the forest's predict method on the test data\n",
    "predictions = rf.predict(X_test)\n",
    "# Calculate the absolute errors\n",
    "errors = abs(predictions - Y_test)\n",
    "# Print out the mean absolute error (mae)\n",
    "print('Mean Absolute Error:', round(np.mean(errors), 2), 'degrees.')"
   ]
  },
  {
   "cell_type": "code",
   "execution_count": 38,
   "metadata": {},
   "outputs": [
    {
     "name": "stdout",
     "output_type": "stream",
     "text": [
      "Accuracy: 0.5465116279069767\n"
     ]
    }
   ],
   "source": [
    "from sklearn import metrics\n",
    "# Model Accuracy, how often is the classifier correct?\n",
    "print(\"Accuracy:\",metrics.accuracy_score(Y_test, predictions))"
   ]
  },
  {
   "cell_type": "code",
   "execution_count": 39,
   "metadata": {},
   "outputs": [
    {
     "data": {
      "text/plain": [
       "array([1., 1., 2., 2., 0., 1., 2., 1., 1., 1., 1., 1., 2., 1., 1., 2., 1.,\n",
       "       2., 2., 1., 1., 2., 1., 2., 1., 1., 0., 1., 1., 2., 2., 1., 2., 2.,\n",
       "       0., 1., 1., 2., 1., 2., 2., 1., 1., 1., 1., 2., 1., 1., 2., 2., 1.,\n",
       "       2., 2., 1., 1., 2., 1., 1., 2., 1., 1., 2., 2., 2., 2., 0., 1., 1.,\n",
       "       2., 1., 0., 1., 1., 2., 1., 2., 2., 1., 1., 2., 2., 1., 0., 1., 1.,\n",
       "       1.])"
      ]
     },
     "execution_count": 39,
     "metadata": {},
     "output_type": "execute_result"
    }
   ],
   "source": [
    "predictions"
   ]
  },
  {
   "cell_type": "code",
   "execution_count": 40,
   "metadata": {},
   "outputs": [
    {
     "data": {
      "text/plain": [
       "L2LY_Hppda                0.042293\n",
       "LY_AxG_y                  0.039174\n",
       "A76+_shotsA               0.038635\n",
       "LY_HxG_y                  0.038058\n",
       "L2LY_Axpts                0.036466\n",
       "L2LY_Dchance              0.035801\n",
       "L2LY_Achance              0.035052\n",
       "LY_Hdeep_y                0.033954\n",
       "HBlockedShot_shotsF       0.030037\n",
       "HshotSixYardBox_xGA       0.028763\n",
       "L2LY_Hshotstrgt           0.028760\n",
       "ASavedShot_shotsA         0.028653\n",
       "A31-45_shotsF             0.028218\n",
       "AFromCorner_xGA           0.028202\n",
       "AshotSixYardBox_shotsA    0.027922\n",
       "HMissedShots_xGA          0.027454\n",
       "AMissedShots_xGD          0.027101\n",
       "AGoal diff -1_timeF       0.026980\n",
       "AGoal diff +1_shotsF      0.026463\n",
       "HRight_Pts                0.025955\n",
       "HshotOboxTotal_xGF        0.025696\n",
       "HRight_Avg_Finish         0.025254\n",
       "H76+_shotsA               0.024408\n",
       "HMissedShots_shotsA       0.023853\n",
       "HshotOboxTotal_xGA        0.023501\n",
       "HGoal diff -1_xGA         0.023295\n",
       "H76+_xGD                  0.022165\n",
       "HOpenPlay_goalsF          0.022142\n",
       "HSetPiece_shotsF          0.021378\n",
       "HFromCorner_xGD           0.020163\n",
       "                            ...   \n",
       "H46-60_shotsA             0.019331\n",
       "LY_Hgoals_y               0.018586\n",
       "HPY_finish_flag           0.017009\n",
       "HRight_PY_finish_flag     0.016854\n",
       "Ateam_Man City            0.002724\n",
       "Ateam_Man United          0.002314\n",
       "Ateam_Tottenham           0.002161\n",
       "Ateam_Everton             0.002127\n",
       "Ateam_Liverpool           0.002121\n",
       "Ateam_Crystal Palace      0.002100\n",
       "Ateam_Southampton         0.002075\n",
       "Hteam_Liverpool           0.001975\n",
       "Ateam_Bournemouth         0.001953\n",
       "Hteam_Leicester           0.001949\n",
       "Ateam_Arsenal             0.001860\n",
       "Hteam_Southampton         0.001788\n",
       "Ateam_Chelsea             0.001697\n",
       "Ateam_West Ham            0.001685\n",
       "Ateam_Leicester           0.001665\n",
       "Hteam_Crystal Palace      0.001521\n",
       "Hteam_Everton             0.001510\n",
       "Hteam_West Ham            0.001223\n",
       "Hteam_Chelsea             0.001211\n",
       "Hteam_Tottenham           0.001177\n",
       "Hteam_Man United          0.001164\n",
       "Hteam_Watford             0.001146\n",
       "Ateam_Watford             0.001137\n",
       "Hteam_Arsenal             0.001097\n",
       "Hteam_Man City            0.000812\n",
       "Hteam_Bournemouth         0.000530\n",
       "Length: 61, dtype: float64"
      ]
     },
     "execution_count": 40,
     "metadata": {},
     "output_type": "execute_result"
    }
   ],
   "source": [
    "feature_imp = pd.Series(rf.feature_importances_,index=feature_list).sort_values(ascending=False)\n",
    "feature_imp"
   ]
  },
  {
   "cell_type": "code",
   "execution_count": 42,
   "metadata": {},
   "outputs": [
    {
     "name": "stderr",
     "output_type": "stream",
     "text": [
      "No handles with labels found to put in legend.\n"
     ]
    },
    {
     "data": {
      "image/png": "[encoded data removed]",
      "text/plain": [
       "<Figure size 1440x1080 with 1 Axes>"
      ]
     },
     "metadata": {},
     "output_type": "display_data"
    }
   ],
   "source": [
    "%matplotlib inline\n",
    "import seaborn as sns\n",
    "fig = plt.figure(figsize=(20,15))\n",
    "sns.barplot(x=feature_imp, y=feature_imp.index)\n",
    "plt.xlabel('Feature Importance Score')\n",
    "plt.ylabel('Features')\n",
    "plt.title(\"Visualizing Important Features\")\n",
    "plt.legend()\n",
    "plt.show()"
   ]
  },
  {
   "cell_type": "code",
   "execution_count": 43,
   "metadata": {},
   "outputs": [],
   "source": [
    "home_team=[]\n",
    "away_team=[]\n",
    "model_predict_out=[]\n",
    "actual_out=[]\n",
    "for i in range(0,X_test.shape[0]):\n",
    "    home_team.append(testdf.HomeTeam.iloc[i])\n",
    "    away_team.append(testdf.AwayTeam.iloc[i])\n",
    "    if (rf.predict(X_test)[i]==2):\n",
    "        model_predict_out.append('Away')\n",
    "    elif (rf.predict(X_test)[i]==1):\n",
    "        model_predict_out.append('Home')\n",
    "    else:\n",
    "        model_predict_out.append('Draw')\n",
    "    if (Y_test[i]==2):\n",
    "        actual_out.append('Away')\n",
    "    elif (Y_test[i]==1):\n",
    "        actual_out.append('Home')\n",
    "    else:\n",
    "        actual_out.append('Draw')"
   ]
  },
  {
   "cell_type": "code",
   "execution_count": 44,
   "metadata": {},
   "outputs": [],
   "source": [
    "result=pd.DataFrame(\n",
    "    {'HomeTeam': home_team,\n",
    "     'AwayTeam': away_team,\n",
    "     'Prdctd_Winner': model_predict_out,\n",
    "     'Actual_Winner':actual_out\n",
    "    })"
   ]
  },
  {
   "cell_type": "code",
   "execution_count": 45,
   "metadata": {},
   "outputs": [],
   "source": [
    "result.to_csv('RandomForest_Predictions.csv')"
   ]
  },
  {
   "cell_type": "code",
   "execution_count": 46,
   "metadata": {},
   "outputs": [
    {
     "name": "stderr",
     "output_type": "stream",
     "text": [
      "C:\\ProgramData\\Anaconda3\\lib\\site-packages\\sklearn\\metrics\\classification.py:1045: UserWarning: Note that pos_label (set to 3) is ignored when average != 'binary' (got None). You may use labels=[pos_label] to specify a single positive class.\n",
      "  % (pos_label, average), UserWarning)\n",
      "C:\\ProgramData\\Anaconda3\\lib\\site-packages\\sklearn\\metrics\\classification.py:1045: UserWarning: Note that pos_label (set to 3) is ignored when average != 'binary' (got None). You may use labels=[pos_label] to specify a single positive class.\n",
      "  % (pos_label, average), UserWarning)\n",
      "C:\\ProgramData\\Anaconda3\\lib\\site-packages\\sklearn\\metrics\\classification.py:1045: UserWarning: Note that pos_label (set to 3) is ignored when average != 'binary' (got None). You may use labels=[pos_label] to specify a single positive class.\n",
      "  % (pos_label, average), UserWarning)\n"
     ]
    },
    {
     "data": {
      "text/html": [
       "<div>\n",
       "<style scoped>\n",
       "    .dataframe tbody tr th:only-of-type {\n",
       "        vertical-align: middle;\n",
       "    }\n",
       "\n",
       "    .dataframe tbody tr th {\n",
       "        vertical-align: top;\n",
       "    }\n",
       "\n",
       "    .dataframe thead th {\n",
       "        text-align: right;\n",
       "    }\n",
       "</style>\n",
       "<table border=\"1\" class=\"dataframe\">\n",
       "  <thead>\n",
       "    <tr style=\"text-align: right;\">\n",
       "      <th></th>\n",
       "      <th>Scores</th>\n",
       "    </tr>\n",
       "  </thead>\n",
       "  <tbody>\n",
       "    <tr>\n",
       "      <th>Accuracy</th>\n",
       "      <td>0.546512</td>\n",
       "    </tr>\n",
       "    <tr>\n",
       "      <th>Precision</th>\n",
       "      <td>[0.16666666666666666, 0.5531914893617021, 0.60...</td>\n",
       "    </tr>\n",
       "    <tr>\n",
       "      <th>Recall</th>\n",
       "      <td>[0.058823529411764705, 0.7027027027027027, 0.625]</td>\n",
       "    </tr>\n",
       "    <tr>\n",
       "      <th>F1 Score</th>\n",
       "      <td>[0.08695652173913045, 0.6190476190476191, 0.61...</td>\n",
       "    </tr>\n",
       "  </tbody>\n",
       "</table>\n",
       "</div>"
      ],
      "text/plain": [
       "                                                      Scores\n",
       "Accuracy                                            0.546512\n",
       "Precision  [0.16666666666666666, 0.5531914893617021, 0.60...\n",
       "Recall     [0.058823529411764705, 0.7027027027027027, 0.625]\n",
       "F1 Score   [0.08695652173913045, 0.6190476190476191, 0.61..."
      ]
     },
     "execution_count": 46,
     "metadata": {},
     "output_type": "execute_result"
    }
   ],
   "source": [
    "final_metrics(rf,Y_test,predictions)"
   ]
  },
  {
   "cell_type": "markdown",
   "metadata": {},
   "source": [
    "## Conclusion"
   ]
  },
  {
   "cell_type": "markdown",
   "metadata": {},
   "source": [
    "### After running all the three models & comparing each models accuracy, recall and predictions. The following can be inferred\n",
    "- __Logisitic Regression is predicting well for Home and Away wins but throwing spurious results for Draws.The size of the dataset and small subset of Draw instances in the training dataset are the reasons behind such result.__\n",
    "- __Random Forest Classifier gives some insights about Draws but predictions aren't as accurate as Logisitic Model.__\n",
    "- __Still the models are in a nascent stage and model optimization is necessary to improve the accuracy and predictions.__\n",
    "- __Accuracies for all the three models are around 55-60%.__"
   ]
  },
  {
   "cell_type": "markdown",
   "metadata": {},
   "source": [
    "## Confusion Matrix"
   ]
  },
  {
   "cell_type": "markdown",
   "metadata": {},
   "source": [
    "![Confusion_Matrix](Confusion_Matrix.jpg)"
   ]
  },
  {
   "cell_type": "markdown",
   "metadata": {},
   "source": [
    "## Betting Results"
   ]
  },
  {
   "cell_type": "markdown",
   "metadata": {},
   "source": [
    "![Betting_Results](Betting_Results.png)"
   ]
  },
  {
   "attachments": {},
   "cell_type": "markdown",
   "metadata": {},
   "source": [
    "## Future Scope \n",
    "- __Work on further improving our predictions by exploring new models and engineering better explanatory features.__\n",
    "- __Operationalizing this model to update every week.__\n",
    "- __Build a GUI for an easy visualization of actual results, predicted results and their comparisons with betting websites.__"
   ]
  },
  {
   "cell_type": "markdown",
   "metadata": {},
   "source": [
    "# -----------------------------WORK IN PROGRESS--------------------------"
   ]
  }
 ],
 "metadata": {
  "kernelspec": {
   "display_name": "Python 3",
   "language": "python",
   "name": "python3"
  },
  "language_info": {
   "codemirror_mode": {
    "name": "ipython",
    "version": 3
   },
   "file_extension": ".py",
   "mimetype": "text/x-python",
   "name": "python",
   "nbconvert_exporter": "python",
   "pygments_lexer": "ipython3",
   "version": "3.6.5"
  }
 },
 "nbformat": 4,
 "nbformat_minor": 2
}
